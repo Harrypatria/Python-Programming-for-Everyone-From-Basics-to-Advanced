{
 "cells": [
  {
   "cell_type": "code",
   "execution_count": 1,
   "id": "5bd9538d",
   "metadata": {},
   "outputs": [],
   "source": [
    "import numpy as np\n",
    "from sklearn.model_selection import train_test_split\n",
    "from sklearn.datasets import make_regression as mr\n",
    "from sklearn.linear_model import LinearRegression"
   ]
  },
  {
   "cell_type": "code",
   "execution_count": 2,
   "id": "d64b9022",
   "metadata": {},
   "outputs": [
    {
     "name": "stdout",
     "output_type": "stream",
     "text": [
      "The (mean squared) error of linear regression model on the test data is  18.524455341117118\n"
     ]
    }
   ],
   "source": [
    "# the \"mr\" function is from a python package that generates \"simulated\" data\n",
    "X, y = mr(n_samples=1000, n_features=500, noise=2)\n",
    "\n",
    "# For now you may think the train data as history data, and test data as future data\n",
    "X_train, X_test, y_train, y_test = train_test_split(X, y, test_size=0.33, random_state=0)\n",
    "\n",
    "# For now, it doesn't hurt for you to think of the below as a black box that\n",
    "# learns a linear function \"f\" that maps \"X\" to \"Y\"\n",
    "\n",
    "lr_model = LinearRegression()\n",
    "lr_model.fit(X_train, y_train)\n",
    "\n",
    "# the following code computes the accuracy on the test set and print the accuracy\n",
    "y_pred = lr_model.predict(X_test)\n",
    "\n",
    "print(\"The (mean squared) error of linear regression model on the test data is \", np.sum((y_pred-y_test)**2)/len(y_test))\n"
   ]
  },
  {
   "cell_type": "code",
   "execution_count": 4,
   "id": "6c12fb66",
   "metadata": {},
   "outputs": [
    {
     "name": "stdout",
     "output_type": "stream",
     "text": [
      "The (mean squared) error of linear regression model on the test data is  25.61428913218388\n"
     ]
    }
   ],
   "source": [
    "# The following code replicates each input variables into two identical input variables\n",
    "X = np.concatenate((X,X), axis=1)\n",
    "\n",
    "# the remaining is the same as above\n",
    "# random_state ensures the same splitting of train set and test set\n",
    "X_train, X_test, y_train, y_test = train_test_split(X, y, test_size=0.33, random_state=0)\n",
    "lr_model = LinearRegression()\n",
    "lr_model.fit(X_train, y_train)\n",
    "y_pred = lr_model.predict(X_test)\n",
    "print(\"The (mean squared) error of linear regression model on the test data is \", np.sum((y_pred-y_test)**2)/len(y_pred))\n",
    "#replication increases the error"
   ]
  },
  {
   "cell_type": "code",
   "execution_count": 9,
   "id": "ebd9d625",
   "metadata": {},
   "outputs": [
    {
     "data": {
      "text/plain": [
       "2.248"
      ]
     },
     "execution_count": 9,
     "metadata": {},
     "output_type": "execute_result"
    }
   ],
   "source": [
    "import numpy as np\n",
    "from sklearn.model_selection import KFold\n",
    "from sklearn.metrics import mean_absolute_error\n",
    "\n",
    "# Data outputs\n",
    "Y = np.array([3.2, 1.7, 7.2, 4.0, 8.1])\n",
    "\n",
    "# Calculate the overall average\n",
    "average_output = np.mean(Y)\n",
    "\n",
    "# K-fold cross-validation setup\n",
    "kf = KFold(n_splits=5)\n",
    "\n",
    "# To store mean absolute errors from each fold\n",
    "mae_values = []\n",
    "\n",
    "# 5-fold cross-validation\n",
    "for train_index, test_index in kf.split(Y):\n",
    "    # The test set output\n",
    "    test_outputs = Y[test_index]\n",
    "    \n",
    "    # Predictions are simply the average output value repeated for the length of the test set\n",
    "    predictions = np.array([average_output] * len(test_index))\n",
    "    \n",
    "    # Calculate MAE for this fold\n",
    "    mae = mean_absolute_error(test_outputs, predictions)\n",
    "    mae_values.append(mae)\n",
    "\n",
    "# Average MAE across all folds\n",
    "average_mae = np.mean(mae_values)\n",
    "average_mae\n"
   ]
  },
  {
   "cell_type": "code",
   "execution_count": 1,
   "id": "5654dfbe",
   "metadata": {},
   "outputs": [
    {
     "data": {
      "text/plain": [
       "[0.0, 0.03919597989949749, 1.0, 0.01407035175879397, 0.018090452261306532]"
      ]
     },
     "execution_count": 1,
     "metadata": {},
     "output_type": "execute_result"
    }
   ],
   "source": [
    "# Values from the first column\n",
    "X1_values = [1.3, 5.2, 100.8, 2.7, 3.1]\n",
    "\n",
    "# Minimum and maximum values from the first column\n",
    "min_X1 = min(X1_values)\n",
    "max_X1 = max(X1_values)\n",
    "\n",
    "# Applying min-max normalization to each value in the first column\n",
    "normalized_X1 = [(x - min_X1) / (max_X1 - min_X1) for x in X1_values]\n",
    "normalized_X1\n"
   ]
  },
  {
   "cell_type": "code",
   "execution_count": 2,
   "id": "5dad3abf",
   "metadata": {},
   "outputs": [
    {
     "data": {
      "text/plain": [
       "([0.5303885897443587,\n",
       "  0.5047564274147057,\n",
       "  0.5126432465930605,\n",
       "  0.451520397960811,\n",
       "  -1.999308661712936],\n",
       " -21.8,\n",
       " 50.71753148567071)"
      ]
     },
     "execution_count": 2,
     "metadata": {},
     "output_type": "execute_result"
    }
   ],
   "source": [
    "import numpy as np\n",
    "\n",
    "# Values from the second column\n",
    "X2_values = [5.1, 3.8, 4.2, 1.1, -123.2]\n",
    "\n",
    "# Calculating the mean and standard deviation of the second column\n",
    "mu_X2 = np.mean(X2_values)\n",
    "sigma_X2 = np.std(X2_values)\n",
    "\n",
    "# Applying Z-score normalization to each value in the second column\n",
    "normalized_X2 = [(x - mu_X2) / sigma_X2 for x in X2_values]\n",
    "normalized_X2, mu_X2, sigma_X2"
   ]
  },
  {
   "cell_type": "code",
   "execution_count": 3,
   "id": "906047af",
   "metadata": {},
   "outputs": [
    {
     "data": {
      "text/plain": [
       "0.5382754089227135"
      ]
     },
     "execution_count": 3,
     "metadata": {},
     "output_type": "execute_result"
    }
   ],
   "source": [
    "# Transforming the new sample X2 = 5.5 using the calculated mean and standard deviation\n",
    "new_X2_sample = 5.5\n",
    "normalized_new_X2 = (new_X2_sample - mu_X2) / sigma_X2\n",
    "normalized_new_X2"
   ]
  },
  {
   "cell_type": "code",
   "execution_count": 4,
   "id": "242c5de6",
   "metadata": {},
   "outputs": [],
   "source": []
  },
  {
   "cell_type": "code",
   "execution_count": 8,
   "id": "9a916f69",
   "metadata": {},
   "outputs": [
    {
     "data": {
      "image/png": "[encoded data removed]",
      "text/plain": [
       "<Figure size 640x480 with 1 Axes>"
      ]
     },
     "metadata": {},
     "output_type": "display_data"
    }
   ],
   "source": [
    "# 5: K-nearest neighbours: Curse of dimensionality\n",
    "import numpy as np\n",
    "p = 50\n",
    "mu = np.zeros([p]) # mean of the random vector\n",
    "Sigma = np.identity(p) # covariance matrix of the random vector\n",
    "\n",
    "\n",
    "X = np.random.multivariate_normal(mu, Sigma, 10000)\n",
    "X_distance_to_origin = np.sum(X**2, axis=1)\n",
    "import matplotlib.pyplot as plt\n",
    "fig = plt.figure()\n",
    "plt.hist(X_distance_to_origin,bins=50)\n",
    "plt.show()"
   ]
  },
  {
   "cell_type": "code",
   "execution_count": 10,
   "id": "14c10d74",
   "metadata": {},
   "outputs": [
    {
     "name": "stdout",
     "output_type": "stream",
     "text": [
      "Mean Length: 5.877777777777777 Std Length: 0.5492980930803677\n",
      "Mean Width: 3.0444444444444447 Std Width: 0.531478255248951\n",
      "Normalized Length (Training): [ 0.95070824  1.31480927 -0.68774638 -0.8697969  -1.41594844  1.67891029\n",
      " -0.32364536 -0.32364536 -0.32364536]\n",
      "Normalized Width (Training): [-0.64808756 -0.0836242  -1.21255091  1.60976587  0.85714806 -0.0836242\n",
      " -0.83624201 -1.02439646  1.42161142]\n"
     ]
    }
   ],
   "source": [
    "# Ind 1 Assignment\n",
    "import numpy as np\n",
    "\n",
    "# Training data for sepal length and sepal width (A1-A9)\n",
    "sepal_length = np.array([6.4, 6.6, 5.5, 5.4, 5.1, 6.8, 5.7, 5.7, 5.7])\n",
    "sepal_width = np.array([2.7, 3.0, 2.4, 3.9, 3.5, 3.0, 2.6, 2.5, 3.8])\n",
    "\n",
    "# Calculate mean and standard deviation for both features in the training data\n",
    "mean_length = np.mean(sepal_length)\n",
    "std_length = np.std(sepal_length)\n",
    "mean_width = np.mean(sepal_width)\n",
    "std_width = np.std(sepal_width)\n",
    "\n",
    "# Normalization function using Z-score\n",
    "def normalize(data, mean, std):\n",
    "    return (data - mean) / std\n",
    "\n",
    "# Apply normalization to training data\n",
    "normalized_length_train = normalize(sepal_length, mean_length, std_length)\n",
    "normalized_width_train = normalize(sepal_width, mean_width, std_width)\n",
    "\n",
    "# Display normalization parameters and normalized training data\n",
    "print(\"Mean Length:\", mean_length, \"Std Length:\", std_length)\n",
    "print(\"Mean Width:\", mean_width, \"Std Width:\", std_width)\n",
    "print(\"Normalized Length (Training):\", normalized_length_train)\n",
    "print(\"Normalized Width (Training):\", normalized_width_train)"
   ]
  },
  {
   "cell_type": "code",
   "execution_count": null,
   "id": "ceb5bb88",
   "metadata": {},
   "outputs": [],
   "source": []
  }
 ],
 "metadata": {
  "kernelspec": {
   "display_name": "Python 3 (ipykernel)",
   "language": "python",
   "name": "python3"
  },
  "language_info": {
   "codemirror_mode": {
    "name": "ipython",
    "version": 3
   },
   "file_extension": ".py",
   "mimetype": "text/x-python",
   "name": "python",
   "nbconvert_exporter": "python",
   "pygments_lexer": "ipython3",
   "version": "3.11.4"
  }
 },
 "nbformat": 4,
 "nbformat_minor": 5
}
